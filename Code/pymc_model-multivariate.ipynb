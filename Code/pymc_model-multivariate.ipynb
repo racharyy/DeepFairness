{
 "cells": [
  {
   "cell_type": "code",
   "execution_count": null,
   "metadata": {},
   "outputs": [],
   "source": [
    "import pymc3 as pm \n",
    "import matplotlib.pyplot as plt\n",
    "import numpy as np \n",
    "import theano\n",
    "import theano.tensor as tt\n",
    "from scipy import stats\n",
    "import pymc3 as pm \n",
    "from ipynb.fs.full.simul_data import *\n",
    "from ipynb.fs.full.counterfactual_generate import *\n",
    "a_dim=7\n",
    "mu_a = np.zeros(a_dim)\n",
    "cov_a = np.eye(a_dim)\n",
    "\n",
    "num_samples =1000\n",
    "trans_dim = 60\n",
    "u_dim = 30\n",
    "rating_dim = 50\n",
    "N=100\n",
    "mu_u = np.zeros(u_dim)\n",
    "cov_u = np.eye(u_dim)\n",
    "mu_trans = np.zeros(trans_dim)\n",
    "cov_trans = np.eye(trans_dim)\n",
    "mu_rating = np.zeros(rating_dim)\n",
    "cov_rating = np.eye(rating_dim)"
   ]
  },
  {
   "cell_type": "code",
   "execution_count": null,
   "metadata": {},
   "outputs": [],
   "source": [
    "\n",
    "causal_model = model1(u_dim,trans_dim,rating_dim)\n",
    "data = causal_model.generate(num_samples)\n",
    "\n",
    "print(\"transcript shape \",data[\"transcript\"].shape)\n",
    "print(\"view shape \",data[\"view\"].shape)\n",
    "print(\"a shape \",data[\"a\"].shape)\n",
    "print(\"rating shape \",data[\"rating\"].shape)\n",
    "# mu_rand = np.random.normal(size=10)"
   ]
  },
  {
   "cell_type": "code",
   "execution_count": null,
   "metadata": {},
   "outputs": [],
   "source": [
    "def model_fit(data,method='mcmc'):\n",
    "\n",
    "    with pm.Model() as model:\n",
    "\n",
    "        #prior sampling\n",
    "        u = pm.MvNormal('u',mu=mu_u,cov=cov_u,shape=u_dim)\n",
    "        transcript0 = pm.MvNormal('transcript0',mu=mu_trans,cov=cov_trans,shape=trans_dim)\n",
    "        view0 = pm.Normal('view0',mu=0,tau=1)\n",
    "\n",
    "        #effect of u \n",
    "        eta_u_transcript = pm.MatrixNormal('eta_u_transcript',colcov=cov_u, rowcov=cov_trans, shape=(trans_dim, u_dim))\n",
    "        eta_u_view = pm.MvNormal('eta_u_view',mu=mu_u,cov=cov_u,shape=u_dim)\n",
    "        eta_u_rating = pm.MatrixNormal('eta_u_rating',colcov=cov_u, rowcov=cov_rating, shape=(rating_dim, u_dim))\n",
    "\n",
    "        #effect of protected attribute\n",
    "        eta_a_transcript = pm.MatrixNormal('eta_a_transcript',colcov=cov_trans, rowcov=cov_a, shape=(a_dim, trans_dim))\n",
    "        eta_a_view = pm.MvNormal('eta_a_view',mu=mu_a,cov=cov_a,shape=a_dim)\n",
    "        eta_a_rating = pm.MatrixNormal('eta_a_rating',colcov=cov_rating, rowcov=cov_a, shape=(a_dim,rating_dim))\n",
    "\n",
    "        #effect of transcript on view and rating\n",
    "        eta_transcript_view = pm.MvNormal('eta_transcript_view',mu=mu_trans,cov=cov_trans,shape=trans_dim)\n",
    "        eta_transcript_rating = pm.MatrixNormal('eta_transcript_rating',colcov=cov_rating, rowcov=cov_trans, shape=(trans_dim,rating_dim))\n",
    "\n",
    "        #effect of view on rating\n",
    "        eta_view_rating = pm.MvNormal('eta_view_rating',mu=mu_rating,cov=cov_rating,shape=rating_dim)\n",
    "\n",
    "\n",
    "        sigma_transcript_sq = pm.InverseGamma('sigma_transcript_sq',alpha=1,beta=1)\n",
    "        sigma_rating_sq = pm.InverseGamma('sigma_rating_sq',alpha=1,beta=1)\n",
    "        print(data['a'].shape)\n",
    "        \n",
    "        transcript_mean =   tt.dot(eta_u_transcript ,u)+transcript0 + tt.dot(data['a'] , eta_a_transcript)\n",
    "        transcript = pm.MvNormal('transcript', mu= transcript_mean, cov = sigma_transcript_sq*np.eye(trans_dim), observed = data[\"transcript\"] )\n",
    "        \n",
    "        \n",
    "        view_mean = tt.maximum(1,view0 + tt.dot(eta_u_view , u)+   tt.dot(data['a'],eta_a_view)+tt.dot(transcript, eta_transcript_view)) \n",
    "        view = pm.Poisson('view',mu =view_mean, observed = data['view'] )\n",
    "\n",
    "        rating_mean = tt.dot(eta_u_rating , u) +  tt.dot(data['a'],eta_a_rating) + tt.dot(transcript, eta_transcript_rating) + tt.dot(tt.reshape(view,(-1,1)), tt.reshape(eta_view_rating,(1,-1))) \n",
    "        rating = pm.Normal('rating', mu= rating_mean, sd = sigma_rating_sq, observed = data[\"rating\"] ) \n",
    "        \n",
    "        if method == 'mcmc':   \n",
    "            step = pm.NUTS()\n",
    "            #init='adapt_diag'\n",
    "            trace=pm.sample(100,step =step)#,target_accept=0.8)\n",
    "        elif method == 'vi':\n",
    "            trace=pm.fit()\n",
    "        else:\n",
    "            print('Not Implemented any other method')\n",
    "            return\n",
    "            \n",
    "    return trace\n",
    "    "
   ]
  },
  {
   "cell_type": "code",
   "execution_count": null,
   "metadata": {
    "scrolled": true
   },
   "outputs": [],
   "source": [
    "trace = model_fit(data,'mcmc')"
   ]
  },
  {
   "cell_type": "code",
   "execution_count": null,
   "metadata": {},
   "outputs": [],
   "source": [
    "u_list = counterfactual_sample(data,trace)"
   ]
  },
  {
   "cell_type": "code",
   "execution_count": null,
   "metadata": {},
   "outputs": [],
   "source": [
    "pm.traceplot(trace)\n",
    "#pm.plot_posterior(trace.sample(1000), color='LightSeaGreen')"
   ]
  },
  {
   "cell_type": "code",
   "execution_count": null,
   "metadata": {},
   "outputs": [],
   "source": [
    "trace1 = trace.sample(1000)"
   ]
  },
  {
   "cell_type": "code",
   "execution_count": null,
   "metadata": {},
   "outputs": [],
   "source": [
    "trace1\n"
   ]
  },
  {
   "cell_type": "code",
   "execution_count": null,
   "metadata": {},
   "outputs": [],
   "source": [
    "pm.traceplot(trace1)"
   ]
  },
  {
   "cell_type": "code",
   "execution_count": null,
   "metadata": {},
   "outputs": [],
   "source": [
    "causal_model.params_dic[\"eta_u_rating\"]"
   ]
  },
  {
   "cell_type": "code",
   "execution_count": null,
   "metadata": {},
   "outputs": [],
   "source": []
  }
 ],
 "metadata": {
  "kernelspec": {
   "display_name": "Python 3",
   "language": "python",
   "name": "python3"
  },
  "language_info": {
   "codemirror_mode": {
    "name": "ipython",
    "version": 3
   },
   "file_extension": ".py",
   "mimetype": "text/x-python",
   "name": "python",
   "nbconvert_exporter": "python",
   "pygments_lexer": "ipython3",
   "version": "3.6.8"
  }
 },
 "nbformat": 4,
 "nbformat_minor": 2
}
