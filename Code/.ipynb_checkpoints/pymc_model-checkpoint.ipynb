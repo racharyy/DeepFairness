{
 "cells": [
  {
   "cell_type": "code",
   "execution_count": 11,
   "metadata": {},
   "outputs": [],
   "source": [
    "import pymc3 as pm \n",
    "import matplotlib.pyplot as plt\n",
    "import numpy as np \n",
    "import theano\n",
    "import theano.tensor as tt\n",
    "from scipy import stats\n",
    "import pymc3 as pm \n",
    "from ipynb.fs.full.simul_data import *\n",
    "K=7\n",
    "mu_mult = np.zeros(K)\n",
    "cov_mult = np.eye(K)"
   ]
  },
  {
   "cell_type": "code",
   "execution_count": 12,
   "metadata": {},
   "outputs": [
    {
     "name": "stdout",
     "output_type": "stream",
     "text": [
      "(100,)\n"
     ]
    }
   ],
   "source": [
    "num_samples =100\n",
    "causal_model = model1()\n",
    "data = causal_model.generate(num_samples)\n",
    "print(data[\"transcript\"].shape)\n",
    "# mu_rand = np.random.normal(size=10)"
   ]
  },
  {
   "cell_type": "code",
   "execution_count": 6,
   "metadata": {},
   "outputs": [],
   "source": [
    "def model_fit(data,method='mcmc'):\n",
    "\n",
    "    with pm.Model() as model:\n",
    "\n",
    "        #prior sampling\n",
    "        u = pm.Normal('u',mu=0,tau=1)\n",
    "        transcript0 = pm.Normal('transcript0',mu=0,tau=1)\n",
    "        view0 = pm.Normal('view0',mu=0,tau=1)\n",
    "\n",
    "        #effect of u \n",
    "        eta_u_transcript = pm.Normal('eta_u_transcript',mu=0,tau=1)\n",
    "        eta_u_view = pm.Normal('eta_u_view',mu=0,tau=1)\n",
    "        eta_u_rating = pm.Normal('eta_u_ratin',mu=0,tau=1)\n",
    "\n",
    "        #effect of protected attribute\n",
    "        eta_a_transcript = pm.MvNormal('eta_a_transcript',mu=mu_mult,cov=cov_mult,shape=K)\n",
    "        eta_a_view = pm.MvNormal('eta_a_view',mu=mu_mult,cov=cov_mult,shape=K)\n",
    "        eta_a_rating = pm.MvNormal('eta_a_rating',mu=mu_mult,cov=cov_mult,shape=K)\n",
    "\n",
    "        #effect of transcript on view and rating\n",
    "        eta_transcript_view = pm.Normal('eta_transcript_view',mu=0,tau=1)\n",
    "        eta_transcript_rating = pm.Normal('eta_transcript_rating',mu=0,tau=1)\n",
    "\n",
    "        #effect of view on rating\n",
    "        eta_view_rating = pm.Normal('eta_view_rating',mu=0,tau=1)\n",
    "\n",
    "\n",
    "        sigma_transcript_sq = pm.InverseGamma('sigma_transcript_sq',alpha=1,beta=1)\n",
    "        sigma_rating_sq = pm.InverseGamma('sigma_rating_sq',alpha=1,beta=1)\n",
    "\n",
    "        transcript_mean = transcript0 + eta_u_transcript * u + tt.dot(data['a'] , eta_a_transcript)\n",
    "        print(transcript_mean.shape)\n",
    "        transcript = pm.Normal('transcript', mu= transcript_mean, sd = sigma_transcript_sq, observed = data[\"transcript\"] )\n",
    "\n",
    "        view_mean = tt.exp(view0 + eta_u_view * u +  transcript * eta_transcript_view + tt.dot(data['a'],eta_a_view))\n",
    "        view = pm.Poisson('view',mu =view_mean, observed = data['view'] )\n",
    "\n",
    "        rating_mean = eta_u_rating * u +  tt.dot(data['a'],eta_a_rating) + transcript* eta_transcript_rating + view* eta_view_rating \n",
    "        rating = pm.Normal('rating', mu= rating_mean, sd = sigma_rating_sq, observed = data[\"rating\"] ) \n",
    "        \n",
    "        if method == 'mcmc':        \n",
    "            trace=pm.sample()\n",
    "        elif method == 'vi':\n",
    "            trace=pm.fit()\n",
    "        else:\n",
    "            print('Go Fuck Yourself')\n",
    "            \n",
    "    return trace\n",
    "    "
   ]
  },
  {
   "cell_type": "code",
   "execution_count": 8,
   "metadata": {},
   "outputs": [
    {
     "name": "stdout",
     "output_type": "stream",
     "text": [
      "Shape.0\n"
     ]
    },
    {
     "name": "stderr",
     "output_type": "stream",
     "text": [
      "Auto-assigning NUTS sampler...\n",
      "Initializing NUTS using jitter+adapt_diag...\n",
      "Multiprocess sampling (2 chains in 2 jobs)\n",
      "NUTS: [sigma_rating_sq, sigma_transcript_sq, eta_view_rating, eta_transcript_rating, eta_transcript_view, eta_a_rating, eta_a_view, eta_a_transcript, eta_u_ratin, eta_u_view, eta_u_transcript, view0, transcript0, u]\n",
      "Sampling 2 chains: 100%|██████████| 2000/2000 [01:33<00:00,  6.94draws/s]\n",
      "There were 19 divergences after tuning. Increase `target_accept` or reparameterize.\n",
      "There were 48 divergences after tuning. Increase `target_accept` or reparameterize.\n",
      "The estimated number of effective samples is smaller than 200 for some parameters.\n"
     ]
    }
   ],
   "source": [
    "trace = model_fit(data)"
   ]
  },
  {
   "cell_type": "code",
   "execution_count": 15,
   "metadata": {},
   "outputs": [
    {
     "data": {
      "text/plain": [
       "-0.7900662620742168"
      ]
     },
     "execution_count": 15,
     "metadata": {},
     "output_type": "execute_result"
    }
   ],
   "source": [
    "trace[\"eta_view_rating\"].mean(axis=0)"
   ]
  },
  {
   "cell_type": "code",
   "execution_count": null,
   "metadata": {},
   "outputs": [],
   "source": []
  }
 ],
 "metadata": {
  "kernelspec": {
   "display_name": "Python 3",
   "language": "python",
   "name": "python3"
  },
  "language_info": {
   "codemirror_mode": {
    "name": "ipython",
    "version": 3
   },
   "file_extension": ".py",
   "mimetype": "text/x-python",
   "name": "python",
   "nbconvert_exporter": "python",
   "pygments_lexer": "ipython3",
   "version": "3.6.8"
  }
 },
 "nbformat": 4,
 "nbformat_minor": 2
}
