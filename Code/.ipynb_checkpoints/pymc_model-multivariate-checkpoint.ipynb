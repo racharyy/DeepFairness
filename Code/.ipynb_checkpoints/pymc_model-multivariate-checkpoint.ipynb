{
 "cells": [
  {
   "cell_type": "code",
   "execution_count": 1,
   "metadata": {
    "collapsed": false,
    "deletable": true,
    "editable": true
   },
   "outputs": [
    {
     "ename": "ImportError",
     "evalue": "No module named 'ipynb'",
     "output_type": "error",
     "traceback": [
      "\u001b[0;31m---------------------------------------------------------------------------\u001b[0m",
      "\u001b[0;31mImportError\u001b[0m                               Traceback (most recent call last)",
      "\u001b[0;32m<ipython-input-1-0fa22d9dcea4>\u001b[0m in \u001b[0;36m<module>\u001b[0;34m()\u001b[0m\n\u001b[1;32m      6\u001b[0m \u001b[0;32mfrom\u001b[0m \u001b[0mscipy\u001b[0m \u001b[0;32mimport\u001b[0m \u001b[0mstats\u001b[0m\u001b[0;34m\u001b[0m\u001b[0m\n\u001b[1;32m      7\u001b[0m \u001b[0;32mimport\u001b[0m \u001b[0mpymc3\u001b[0m \u001b[0;32mas\u001b[0m \u001b[0mpm\u001b[0m\u001b[0;34m\u001b[0m\u001b[0m\n\u001b[0;32m----> 8\u001b[0;31m \u001b[0;32mfrom\u001b[0m \u001b[0mipynb\u001b[0m\u001b[0;34m.\u001b[0m\u001b[0mfs\u001b[0m\u001b[0;34m.\u001b[0m\u001b[0mfull\u001b[0m\u001b[0;34m.\u001b[0m\u001b[0msimul_data\u001b[0m \u001b[0;32mimport\u001b[0m \u001b[0;34m*\u001b[0m\u001b[0;34m\u001b[0m\u001b[0m\n\u001b[0m\u001b[1;32m      9\u001b[0m \u001b[0;32mfrom\u001b[0m \u001b[0mipynb\u001b[0m\u001b[0;34m.\u001b[0m\u001b[0mfs\u001b[0m\u001b[0;34m.\u001b[0m\u001b[0mfull\u001b[0m\u001b[0;34m.\u001b[0m\u001b[0mcounterfactual_generate\u001b[0m \u001b[0;32mimport\u001b[0m \u001b[0;34m*\u001b[0m\u001b[0;34m\u001b[0m\u001b[0m\n\u001b[1;32m     10\u001b[0m \u001b[0ma_dim\u001b[0m\u001b[0;34m=\u001b[0m\u001b[0;36m7\u001b[0m\u001b[0;34m\u001b[0m\u001b[0m\n",
      "\u001b[0;31mImportError\u001b[0m: No module named 'ipynb'"
     ]
    }
   ],
   "source": [
    "import pymc3 as pm \n",
    "import matplotlib.pyplot as plt\n",
    "import numpy as np \n",
    "import theano\n",
    "import theano.tensor as tt\n",
    "from scipy import stats\n",
    "import pymc3 as pm \n",
    "from ipynb.fs.full.simul_data import *\n",
    "from ipynb.fs.full.counterfactual_generate import *\n",
    "a_dim=7\n",
    "mu_a = np.zeros(a_dim)\n",
    "cov_a = np.eye(a_dim)\n",
    "\n",
    "num_samples =1000\n",
    "trans_dim = 60\n",
    "u_dim = 30\n",
    "rating_dim = 50\n",
    "N=100\n",
    "mu_u = np.zeros(u_dim)\n",
    "cov_u = np.eye(u_dim)\n",
    "mu_trans = np.zeros(trans_dim)\n",
    "cov_trans = np.eye(trans_dim)\n",
    "mu_rating = np.zeros(rating_dim)\n",
    "cov_rating = np.eye(rating_dim)"
   ]
  },
  {
   "cell_type": "code",
   "execution_count": 2,
   "metadata": {
    "collapsed": false,
    "deletable": true,
    "editable": true
   },
   "outputs": [
    {
     "name": "stdout",
     "output_type": "stream",
     "text": [
      "transcript shape  (1000, 60)\n",
      "view shape  (1000,)\n",
      "a shape  (1000, 7)\n",
      "rating shape  (1000, 50)\n"
     ]
    }
   ],
   "source": [
    "\n",
    "causal_model = model1(u_dim,trans_dim,rating_dim)\n",
    "data = causal_model.generate(num_samples)\n",
    "\n",
    "print(\"transcript shape \",data[\"transcript\"].shape)\n",
    "print(\"view shape \",data[\"view\"].shape)\n",
    "print(\"a shape \",data[\"a\"].shape)\n",
    "print(\"rating shape \",data[\"rating\"].shape)\n",
    "# mu_rand = np.random.normal(size=10)"
   ]
  },
  {
   "cell_type": "code",
   "execution_count": 10,
   "metadata": {
    "collapsed": true,
    "deletable": true,
    "editable": true
   },
   "outputs": [],
   "source": [
    "def model_fit(data,method='mcmc'):\n",
    "\n",
    "    with pm.Model() as model:\n",
    "\n",
    "        #prior sampling\n",
    "        u = pm.MvNormal('u',mu=mu_u,cov=cov_u,shape=u_dim)\n",
    "        transcript0 = pm.MvNormal('transcript0',mu=mu_trans,cov=cov_trans,shape=trans_dim)\n",
    "        view0 = pm.Normal('view0',mu=0,tau=1)\n",
    "\n",
    "        #effect of u \n",
    "        eta_u_transcript = pm.MatrixNormal('eta_u_transcript',colcov=cov_u, rowcov=cov_trans, shape=(trans_dim, u_dim))\n",
    "        eta_u_view = pm.MvNormal('eta_u_view',mu=mu_u,cov=cov_u,shape=u_dim)\n",
    "        eta_u_rating = pm.MatrixNormal('eta_u_rating',colcov=cov_u, rowcov=cov_rating, shape=(rating_dim, u_dim))\n",
    "\n",
    "        #effect of protected attribute\n",
    "        eta_a_transcript = pm.MatrixNormal('eta_a_transcript',colcov=cov_trans, rowcov=cov_a, shape=(a_dim, trans_dim))\n",
    "        eta_a_view = pm.MvNormal('eta_a_view',mu=mu_a,cov=cov_a,shape=a_dim)\n",
    "        eta_a_rating = pm.MatrixNormal('eta_a_rating',colcov=cov_rating, rowcov=cov_a, shape=(a_dim,rating_dim))\n",
    "\n",
    "        #effect of transcript on view and rating\n",
    "        eta_transcript_view = pm.MvNormal('eta_transcript_view',mu=mu_trans,cov=cov_trans,shape=trans_dim)\n",
    "        eta_transcript_rating = pm.MatrixNormal('eta_transcript_rating',colcov=cov_rating, rowcov=cov_trans, shape=(trans_dim,rating_dim))\n",
    "\n",
    "        #effect of view on rating\n",
    "        eta_view_rating = pm.MvNormal('eta_view_rating',mu=mu_rating,cov=cov_rating,shape=rating_dim)\n",
    "\n",
    "\n",
    "        sigma_transcript_sq = pm.InverseGamma('sigma_transcript_sq',alpha=1,beta=1)\n",
    "        sigma_rating_sq = pm.InverseGamma('sigma_rating_sq',alpha=1,beta=1)\n",
    "        #print(data['a'].shape)\n",
    "        \n",
    "        transcript_mean =   tt.dot(eta_u_transcript ,u)+transcript0 + tt.dot(data['a'] , eta_a_transcript)\n",
    "        transcript = pm.MvNormal('transcript', mu= transcript_mean, cov = sigma_transcript_sq*np.eye(trans_dim), observed = data[\"transcript\"] )\n",
    "        \n",
    "        \n",
    "        view_mean = tt.maximum(1,view0 + tt.dot(eta_u_view , u)+   tt.dot(data['a'],eta_a_view)+tt.dot(transcript, eta_transcript_view)) \n",
    "        view = pm.Poisson('view',mu =view_mean, observed = data['view'] )\n",
    "\n",
    "        rating_mean = tt.dot(eta_u_rating , u) +  tt.dot(data['a'],eta_a_rating) + tt.dot(transcript, eta_transcript_rating) + tt.dot(tt.reshape(view,(-1,1)), tt.reshape(eta_view_rating,(1,-1))) \n",
    "        rating = pm.MvNormal('rating', mu= rating_mean, cov = sigma_rating_sq*np.eye(rating_dim), observed = data[\"rating\"] ) \n",
    "        \n",
    "        if method == 'mcmc':   \n",
    "            step = pm.NUTS()\n",
    "            #init='adapt_diag'\n",
    "            trace=pm.sample(100)#,step =step)#,target_accept=0.8)\n",
    "        elif method == 'vi':\n",
    "            trace=pm.fit(n=30000)\n",
    "        else:\n",
    "            print('Not Implemented any other method')\n",
    "            return\n",
    "            \n",
    "    return trace\n",
    "    "
   ]
  },
  {
   "cell_type": "code",
   "execution_count": 11,
   "metadata": {
    "collapsed": false,
    "deletable": true,
    "editable": true,
    "scrolled": true
   },
   "outputs": [
    {
     "name": "stderr",
     "output_type": "stream",
     "text": [
      "Average Loss = 3.2397e+05: 100%|██████████| 30000/30000 [04:07<00:00, 121.26it/s]\n",
      "Finished [100%]: Average Loss = 3.2397e+05\n"
     ]
    }
   ],
   "source": [
    "mf = model_fit(data,'vi')"
   ]
  },
  {
   "cell_type": "code",
   "execution_count": 12,
   "metadata": {
    "collapsed": true,
    "deletable": true,
    "editable": true
   },
   "outputs": [],
   "source": [
    "trace = mf.sample(1000)"
   ]
  },
  {
   "cell_type": "code",
   "execution_count": 13,
   "metadata": {
    "collapsed": false,
    "deletable": true,
    "editable": true
   },
   "outputs": [
    {
     "name": "stdout",
     "output_type": "stream",
     "text": [
      "Difference for  transcript0  is  4.216493716709898\n",
      "Difference for  view0  is  0.07431528184883351\n",
      "Difference for  eta_u_transcript  is  42.2991397215812\n",
      "Difference for  eta_u_view  is  6.2777429829775935\n",
      "Difference for  eta_u_rating  is  38.88478671239348\n",
      "Difference for  eta_a_transcript  is  11.47424468986247\n",
      "Difference for  eta_a_view  is  1.7078024352166632\n",
      "Difference for  eta_a_rating  is  14.610216582964847\n",
      "Difference for  eta_transcript_view  is  0.9724728488997844\n",
      "Difference for  eta_transcript_rating  is  5.629815620686736\n",
      "Difference for  eta_view_rating  is  0.04987016969240436\n",
      "Difference for  sigma_transcript_sq  is  30.192209366817423\n",
      "Difference for  sigma_rating_sq  is  5.319523010951319\n"
     ]
    }
   ],
   "source": [
    "for key in causal_model.params_dic:\n",
    "    try:\n",
    "        s=causal_model.params_dic[key].shape\n",
    "        if len(s)==1:\n",
    "            s=s[0]\n",
    "        else:\n",
    "            s=s[0]*s[1]\n",
    "    except:\n",
    "        s=1\n",
    "#     if len(s)==2:\n",
    "#         s=s[0]*s[2]\n",
    "#     else:\n",
    "#         s=s[0]\n",
    "    diff = np.linalg.norm(causal_model.params_dic[key]-np.mean(trace[key],axis=0)) #/ s\n",
    "    print(\"Difference for \",key,\" is \", diff)\n",
    "    "
   ]
  },
  {
   "cell_type": "code",
   "execution_count": 7,
   "metadata": {
    "collapsed": false,
    "deletable": true,
    "editable": true
   },
   "outputs": [
    {
     "data": {
      "text/plain": [
       "dict_keys(['transcript0', 'view0', 'eta_u_transcript', 'eta_u_view', 'eta_u_rating', 'eta_a_transcript', 'eta_a_view', 'eta_a_rating', 'eta_transcript_view', 'eta_transcript_rating', 'eta_view_rating', 'sigma_transcript_sq', 'sigma_rating_sq'])"
      ]
     },
     "execution_count": 7,
     "metadata": {},
     "output_type": "execute_result"
    }
   ],
   "source": [
    "causal_model.params_dic.keys()"
   ]
  },
  {
   "cell_type": "code",
   "execution_count": null,
   "metadata": {
    "collapsed": true,
    "deletable": true,
    "editable": true
   },
   "outputs": [],
   "source": []
  }
 ],
 "metadata": {
  "kernelspec": {
   "display_name": "Python 3",
   "language": "python",
   "name": "python3"
  },
  "language_info": {
   "codemirror_mode": {
    "name": "ipython",
    "version": 3
   },
   "file_extension": ".py",
   "mimetype": "text/x-python",
   "name": "python",
   "nbconvert_exporter": "python",
   "pygments_lexer": "ipython3",
   "version": "3.5.0"
  }
 },
 "nbformat": 4,
 "nbformat_minor": 2
}
