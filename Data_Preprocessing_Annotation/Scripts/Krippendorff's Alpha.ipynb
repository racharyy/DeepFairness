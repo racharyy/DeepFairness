{
 "cells": [
  {
   "cell_type": "code",
   "execution_count": 19,
   "metadata": {
    "collapsed": true,
    "deletable": true,
    "editable": true
   },
   "outputs": [],
   "source": [
    "import pandas as pd\n",
    "import krippendorff as kp\n",
    "import numpy as np"
   ]
  },
  {
   "cell_type": "code",
   "execution_count": 20,
   "metadata": {
    "collapsed": true,
    "deletable": true,
    "editable": true
   },
   "outputs": [],
   "source": [
    "df = pd.read_csv('../Mech_Turk_submission/Batch_3642686_batch_results.csv')"
   ]
  },
  {
   "cell_type": "code",
   "execution_count": 21,
   "metadata": {
    "collapsed": false,
    "deletable": true,
    "editable": true
   },
   "outputs": [
    {
     "data": {
      "text/html": [
       "<div>\n",
       "<style scoped>\n",
       "    .dataframe tbody tr th:only-of-type {\n",
       "        vertical-align: middle;\n",
       "    }\n",
       "\n",
       "    .dataframe tbody tr th {\n",
       "        vertical-align: top;\n",
       "    }\n",
       "\n",
       "    .dataframe thead th {\n",
       "        text-align: right;\n",
       "    }\n",
       "</style>\n",
       "<table border=\"1\" class=\"dataframe\">\n",
       "  <thead>\n",
       "    <tr style=\"text-align: right;\">\n",
       "      <th></th>\n",
       "      <th>HITId</th>\n",
       "      <th>HITTypeId</th>\n",
       "      <th>Title</th>\n",
       "      <th>Description</th>\n",
       "      <th>Keywords</th>\n",
       "      <th>Reward</th>\n",
       "      <th>CreationTime</th>\n",
       "      <th>MaxAssignments</th>\n",
       "      <th>RequesterAnnotation</th>\n",
       "      <th>AssignmentDurationInSeconds</th>\n",
       "      <th>...</th>\n",
       "      <th>Answer.Gender.4</th>\n",
       "      <th>Answer.Race.1</th>\n",
       "      <th>Answer.Race.2/</th>\n",
       "      <th>Answer.Race.3/</th>\n",
       "      <th>Answer.Race.4/</th>\n",
       "      <th>Answer.Race.5/</th>\n",
       "      <th>Answer.Race.6/</th>\n",
       "      <th>Answer.Race.7/</th>\n",
       "      <th>Approve</th>\n",
       "      <th>Reject</th>\n",
       "    </tr>\n",
       "  </thead>\n",
       "  <tbody>\n",
       "    <tr>\n",
       "      <th>0</th>\n",
       "      <td>3X4Q1O9UBH0S2CEE9KHK4XZH91E7OX</td>\n",
       "      <td>3CUQ44BBWQNW9FM7ZF9C73N8SA86QT</td>\n",
       "      <td>Annotate Gender/Race in TedTalk Videos for 7 u...</td>\n",
       "      <td>Watch the first few seconds of the video and a...</td>\n",
       "      <td>data collection, website, data extraction</td>\n",
       "      <td>$0.03</td>\n",
       "      <td>Tue May 14 10:52:41 PDT 2019</td>\n",
       "      <td>3</td>\n",
       "      <td>BatchId:3642686;OriginalHitTemplateId:928390855;</td>\n",
       "      <td>600</td>\n",
       "      <td>...</td>\n",
       "      <td>False</td>\n",
       "      <td>True</td>\n",
       "      <td>False</td>\n",
       "      <td>False</td>\n",
       "      <td>False</td>\n",
       "      <td>False</td>\n",
       "      <td>False</td>\n",
       "      <td>False</td>\n",
       "      <td>NaN</td>\n",
       "      <td>NaN</td>\n",
       "    </tr>\n",
       "    <tr>\n",
       "      <th>1</th>\n",
       "      <td>3X4Q1O9UBH0S2CEE9KHK4XZH91E7OX</td>\n",
       "      <td>3CUQ44BBWQNW9FM7ZF9C73N8SA86QT</td>\n",
       "      <td>Annotate Gender/Race in TedTalk Videos for 7 u...</td>\n",
       "      <td>Watch the first few seconds of the video and a...</td>\n",
       "      <td>data collection, website, data extraction</td>\n",
       "      <td>$0.03</td>\n",
       "      <td>Tue May 14 10:52:41 PDT 2019</td>\n",
       "      <td>3</td>\n",
       "      <td>BatchId:3642686;OriginalHitTemplateId:928390855;</td>\n",
       "      <td>600</td>\n",
       "      <td>...</td>\n",
       "      <td>False</td>\n",
       "      <td>True</td>\n",
       "      <td>False</td>\n",
       "      <td>False</td>\n",
       "      <td>False</td>\n",
       "      <td>False</td>\n",
       "      <td>False</td>\n",
       "      <td>False</td>\n",
       "      <td>NaN</td>\n",
       "      <td>NaN</td>\n",
       "    </tr>\n",
       "    <tr>\n",
       "      <th>2</th>\n",
       "      <td>3X4Q1O9UBH0S2CEE9KHK4XZH91E7OX</td>\n",
       "      <td>3CUQ44BBWQNW9FM7ZF9C73N8SA86QT</td>\n",
       "      <td>Annotate Gender/Race in TedTalk Videos for 7 u...</td>\n",
       "      <td>Watch the first few seconds of the video and a...</td>\n",
       "      <td>data collection, website, data extraction</td>\n",
       "      <td>$0.03</td>\n",
       "      <td>Tue May 14 10:52:41 PDT 2019</td>\n",
       "      <td>3</td>\n",
       "      <td>BatchId:3642686;OriginalHitTemplateId:928390855;</td>\n",
       "      <td>600</td>\n",
       "      <td>...</td>\n",
       "      <td>False</td>\n",
       "      <td>True</td>\n",
       "      <td>False</td>\n",
       "      <td>False</td>\n",
       "      <td>False</td>\n",
       "      <td>False</td>\n",
       "      <td>False</td>\n",
       "      <td>False</td>\n",
       "      <td>NaN</td>\n",
       "      <td>NaN</td>\n",
       "    </tr>\n",
       "    <tr>\n",
       "      <th>3</th>\n",
       "      <td>3NBFJK3IOHWBV5PF2NLEAACA84WOGG</td>\n",
       "      <td>3CUQ44BBWQNW9FM7ZF9C73N8SA86QT</td>\n",
       "      <td>Annotate Gender/Race in TedTalk Videos for 7 u...</td>\n",
       "      <td>Watch the first few seconds of the video and a...</td>\n",
       "      <td>data collection, website, data extraction</td>\n",
       "      <td>$0.03</td>\n",
       "      <td>Tue May 14 10:52:28 PDT 2019</td>\n",
       "      <td>3</td>\n",
       "      <td>BatchId:3642686;OriginalHitTemplateId:928390855;</td>\n",
       "      <td>600</td>\n",
       "      <td>...</td>\n",
       "      <td>False</td>\n",
       "      <td>True</td>\n",
       "      <td>False</td>\n",
       "      <td>False</td>\n",
       "      <td>False</td>\n",
       "      <td>False</td>\n",
       "      <td>False</td>\n",
       "      <td>False</td>\n",
       "      <td>NaN</td>\n",
       "      <td>NaN</td>\n",
       "    </tr>\n",
       "    <tr>\n",
       "      <th>4</th>\n",
       "      <td>3NBFJK3IOHWBV5PF2NLEAACA84WOGG</td>\n",
       "      <td>3CUQ44BBWQNW9FM7ZF9C73N8SA86QT</td>\n",
       "      <td>Annotate Gender/Race in TedTalk Videos for 7 u...</td>\n",
       "      <td>Watch the first few seconds of the video and a...</td>\n",
       "      <td>data collection, website, data extraction</td>\n",
       "      <td>$0.03</td>\n",
       "      <td>Tue May 14 10:52:28 PDT 2019</td>\n",
       "      <td>3</td>\n",
       "      <td>BatchId:3642686;OriginalHitTemplateId:928390855;</td>\n",
       "      <td>600</td>\n",
       "      <td>...</td>\n",
       "      <td>False</td>\n",
       "      <td>True</td>\n",
       "      <td>False</td>\n",
       "      <td>False</td>\n",
       "      <td>False</td>\n",
       "      <td>False</td>\n",
       "      <td>False</td>\n",
       "      <td>False</td>\n",
       "      <td>NaN</td>\n",
       "      <td>NaN</td>\n",
       "    </tr>\n",
       "  </tbody>\n",
       "</table>\n",
       "<p>5 rows × 43 columns</p>\n",
       "</div>"
      ],
      "text/plain": [
       "                            HITId                       HITTypeId  \\\n",
       "0  3X4Q1O9UBH0S2CEE9KHK4XZH91E7OX  3CUQ44BBWQNW9FM7ZF9C73N8SA86QT   \n",
       "1  3X4Q1O9UBH0S2CEE9KHK4XZH91E7OX  3CUQ44BBWQNW9FM7ZF9C73N8SA86QT   \n",
       "2  3X4Q1O9UBH0S2CEE9KHK4XZH91E7OX  3CUQ44BBWQNW9FM7ZF9C73N8SA86QT   \n",
       "3  3NBFJK3IOHWBV5PF2NLEAACA84WOGG  3CUQ44BBWQNW9FM7ZF9C73N8SA86QT   \n",
       "4  3NBFJK3IOHWBV5PF2NLEAACA84WOGG  3CUQ44BBWQNW9FM7ZF9C73N8SA86QT   \n",
       "\n",
       "                                               Title  \\\n",
       "0  Annotate Gender/Race in TedTalk Videos for 7 u...   \n",
       "1  Annotate Gender/Race in TedTalk Videos for 7 u...   \n",
       "2  Annotate Gender/Race in TedTalk Videos for 7 u...   \n",
       "3  Annotate Gender/Race in TedTalk Videos for 7 u...   \n",
       "4  Annotate Gender/Race in TedTalk Videos for 7 u...   \n",
       "\n",
       "                                         Description  \\\n",
       "0  Watch the first few seconds of the video and a...   \n",
       "1  Watch the first few seconds of the video and a...   \n",
       "2  Watch the first few seconds of the video and a...   \n",
       "3  Watch the first few seconds of the video and a...   \n",
       "4  Watch the first few seconds of the video and a...   \n",
       "\n",
       "                                    Keywords Reward  \\\n",
       "0  data collection, website, data extraction  $0.03   \n",
       "1  data collection, website, data extraction  $0.03   \n",
       "2  data collection, website, data extraction  $0.03   \n",
       "3  data collection, website, data extraction  $0.03   \n",
       "4  data collection, website, data extraction  $0.03   \n",
       "\n",
       "                   CreationTime  MaxAssignments  \\\n",
       "0  Tue May 14 10:52:41 PDT 2019               3   \n",
       "1  Tue May 14 10:52:41 PDT 2019               3   \n",
       "2  Tue May 14 10:52:41 PDT 2019               3   \n",
       "3  Tue May 14 10:52:28 PDT 2019               3   \n",
       "4  Tue May 14 10:52:28 PDT 2019               3   \n",
       "\n",
       "                                RequesterAnnotation  \\\n",
       "0  BatchId:3642686;OriginalHitTemplateId:928390855;   \n",
       "1  BatchId:3642686;OriginalHitTemplateId:928390855;   \n",
       "2  BatchId:3642686;OriginalHitTemplateId:928390855;   \n",
       "3  BatchId:3642686;OriginalHitTemplateId:928390855;   \n",
       "4  BatchId:3642686;OriginalHitTemplateId:928390855;   \n",
       "\n",
       "   AssignmentDurationInSeconds  ...  Answer.Gender.4 Answer.Race.1  \\\n",
       "0                          600  ...            False          True   \n",
       "1                          600  ...            False          True   \n",
       "2                          600  ...            False          True   \n",
       "3                          600  ...            False          True   \n",
       "4                          600  ...            False          True   \n",
       "\n",
       "   Answer.Race.2/  Answer.Race.3/ Answer.Race.4/ Answer.Race.5/  \\\n",
       "0           False           False          False          False   \n",
       "1           False           False          False          False   \n",
       "2           False           False          False          False   \n",
       "3           False           False          False          False   \n",
       "4           False           False          False          False   \n",
       "\n",
       "  Answer.Race.6/ Answer.Race.7/ Approve Reject  \n",
       "0          False          False     NaN    NaN  \n",
       "1          False          False     NaN    NaN  \n",
       "2          False          False     NaN    NaN  \n",
       "3          False          False     NaN    NaN  \n",
       "4          False          False     NaN    NaN  \n",
       "\n",
       "[5 rows x 43 columns]"
      ]
     },
     "execution_count": 21,
     "metadata": {},
     "output_type": "execute_result"
    }
   ],
   "source": [
    "df.head()"
   ]
  },
  {
   "cell_type": "code",
   "execution_count": 22,
   "metadata": {
    "collapsed": false,
    "deletable": true,
    "editable": true
   },
   "outputs": [
    {
     "data": {
      "text/plain": [
       "Index(['HITId', 'HITTypeId', 'Title', 'Description', 'Keywords', 'Reward',\n",
       "       'CreationTime', 'MaxAssignments', 'RequesterAnnotation',\n",
       "       'AssignmentDurationInSeconds', 'AutoApprovalDelayInSeconds',\n",
       "       'Expiration', 'NumberOfSimilarHITs', 'LifetimeInSeconds',\n",
       "       'AssignmentId', 'WorkerId', 'AssignmentStatus', 'AcceptTime',\n",
       "       'SubmitTime', 'AutoApprovalTime', 'ApprovalTime', 'RejectionTime',\n",
       "       'RequesterFeedback', 'WorkTimeInSeconds', 'LifetimeApprovalRate',\n",
       "       'Last30DaysApprovalRate', 'Last7DaysApprovalRate', 'Input.Video_ID',\n",
       "       'Input.url', 'Input.embed_url', 'Answer.Gender.1', 'Answer.Gender.2',\n",
       "       'Answer.Gender.3', 'Answer.Gender.4', 'Answer.Race.1', 'Answer.Race.2/',\n",
       "       'Answer.Race.3/', 'Answer.Race.4/', 'Answer.Race.5/', 'Answer.Race.6/',\n",
       "       'Answer.Race.7/', 'Approve', 'Reject'],\n",
       "      dtype='object')"
      ]
     },
     "execution_count": 22,
     "metadata": {},
     "output_type": "execute_result"
    }
   ],
   "source": [
    "df.columns"
   ]
  },
  {
   "cell_type": "code",
   "execution_count": 23,
   "metadata": {
    "collapsed": true,
    "deletable": true,
    "editable": true
   },
   "outputs": [],
   "source": [
    "df_temp = df[['Input.Video_ID', 'Answer.Gender.1', 'Answer.Gender.2',\n",
    "       'Answer.Gender.3', 'Answer.Gender.4', 'Answer.Race.1', 'Answer.Race.2/',\n",
    "       'Answer.Race.3/', 'Answer.Race.4/', 'Answer.Race.5/', 'Answer.Race.6/',\n",
    "       'Answer.Race.7/']]"
   ]
  },
  {
   "cell_type": "code",
   "execution_count": 24,
   "metadata": {
    "collapsed": false,
    "deletable": true,
    "editable": true
   },
   "outputs": [
    {
     "data": {
      "text/plain": [
       "(7149, 12)"
      ]
     },
     "execution_count": 24,
     "metadata": {},
     "output_type": "execute_result"
    }
   ],
   "source": [
    "df_temp.shape"
   ]
  },
  {
   "cell_type": "code",
   "execution_count": 25,
   "metadata": {
    "collapsed": false,
    "deletable": true,
    "editable": true
   },
   "outputs": [],
   "source": [
    "ids = df_temp['Input.Video_ID'].unique()"
   ]
  },
  {
   "cell_type": "code",
   "execution_count": 26,
   "metadata": {
    "collapsed": false,
    "deletable": true,
    "editable": true,
    "scrolled": true
   },
   "outputs": [
    {
     "data": {
      "text/html": [
       "<div>\n",
       "<style scoped>\n",
       "    .dataframe tbody tr th:only-of-type {\n",
       "        vertical-align: middle;\n",
       "    }\n",
       "\n",
       "    .dataframe tbody tr th {\n",
       "        vertical-align: top;\n",
       "    }\n",
       "\n",
       "    .dataframe thead th {\n",
       "        text-align: right;\n",
       "    }\n",
       "</style>\n",
       "<table border=\"1\" class=\"dataframe\">\n",
       "  <thead>\n",
       "    <tr style=\"text-align: right;\">\n",
       "      <th></th>\n",
       "      <th>Input.Video_ID</th>\n",
       "      <th>Answer.Gender.1</th>\n",
       "      <th>Answer.Gender.2</th>\n",
       "      <th>Answer.Gender.3</th>\n",
       "      <th>Answer.Gender.4</th>\n",
       "      <th>Answer.Race.1</th>\n",
       "      <th>Answer.Race.2/</th>\n",
       "      <th>Answer.Race.3/</th>\n",
       "      <th>Answer.Race.4/</th>\n",
       "      <th>Answer.Race.5/</th>\n",
       "      <th>Answer.Race.6/</th>\n",
       "      <th>Answer.Race.7/</th>\n",
       "    </tr>\n",
       "  </thead>\n",
       "  <tbody>\n",
       "    <tr>\n",
       "      <th>0</th>\n",
       "      <td>779</td>\n",
       "      <td>False</td>\n",
       "      <td>True</td>\n",
       "      <td>False</td>\n",
       "      <td>False</td>\n",
       "      <td>True</td>\n",
       "      <td>False</td>\n",
       "      <td>False</td>\n",
       "      <td>False</td>\n",
       "      <td>False</td>\n",
       "      <td>False</td>\n",
       "      <td>False</td>\n",
       "    </tr>\n",
       "    <tr>\n",
       "      <th>1</th>\n",
       "      <td>2279</td>\n",
       "      <td>True</td>\n",
       "      <td>False</td>\n",
       "      <td>False</td>\n",
       "      <td>False</td>\n",
       "      <td>True</td>\n",
       "      <td>False</td>\n",
       "      <td>False</td>\n",
       "      <td>False</td>\n",
       "      <td>False</td>\n",
       "      <td>False</td>\n",
       "      <td>False</td>\n",
       "    </tr>\n",
       "    <tr>\n",
       "      <th>2</th>\n",
       "      <td>92</td>\n",
       "      <td>False</td>\n",
       "      <td>True</td>\n",
       "      <td>False</td>\n",
       "      <td>False</td>\n",
       "      <td>True</td>\n",
       "      <td>False</td>\n",
       "      <td>False</td>\n",
       "      <td>False</td>\n",
       "      <td>False</td>\n",
       "      <td>False</td>\n",
       "      <td>False</td>\n",
       "    </tr>\n",
       "    <tr>\n",
       "      <th>3</th>\n",
       "      <td>1819</td>\n",
       "      <td>True</td>\n",
       "      <td>False</td>\n",
       "      <td>False</td>\n",
       "      <td>False</td>\n",
       "      <td>False</td>\n",
       "      <td>False</td>\n",
       "      <td>False</td>\n",
       "      <td>True</td>\n",
       "      <td>False</td>\n",
       "      <td>False</td>\n",
       "      <td>False</td>\n",
       "    </tr>\n",
       "    <tr>\n",
       "      <th>4</th>\n",
       "      <td>1950</td>\n",
       "      <td>False</td>\n",
       "      <td>True</td>\n",
       "      <td>False</td>\n",
       "      <td>False</td>\n",
       "      <td>True</td>\n",
       "      <td>False</td>\n",
       "      <td>False</td>\n",
       "      <td>False</td>\n",
       "      <td>False</td>\n",
       "      <td>False</td>\n",
       "      <td>False</td>\n",
       "    </tr>\n",
       "  </tbody>\n",
       "</table>\n",
       "</div>"
      ],
      "text/plain": [
       "   Input.Video_ID  Answer.Gender.1  Answer.Gender.2  Answer.Gender.3  \\\n",
       "0             779            False             True            False   \n",
       "1            2279             True            False            False   \n",
       "2              92            False             True            False   \n",
       "3            1819             True            False            False   \n",
       "4            1950            False             True            False   \n",
       "\n",
       "   Answer.Gender.4  Answer.Race.1  Answer.Race.2/  Answer.Race.3/  \\\n",
       "0            False           True           False           False   \n",
       "1            False           True           False           False   \n",
       "2            False           True           False           False   \n",
       "3            False          False           False           False   \n",
       "4            False           True           False           False   \n",
       "\n",
       "   Answer.Race.4/  Answer.Race.5/  Answer.Race.6/  Answer.Race.7/  \n",
       "0           False           False           False           False  \n",
       "1           False           False           False           False  \n",
       "2           False           False           False           False  \n",
       "3            True           False           False           False  \n",
       "4           False           False           False           False  "
      ]
     },
     "execution_count": 26,
     "metadata": {},
     "output_type": "execute_result"
    }
   ],
   "source": [
    "alpha = []\n",
    "row_list = []\n",
    "final_df = pd.DataFrame(columns = df_temp.columns)\n",
    "for ID in ids[:]:\n",
    "    temp = df_temp[df_temp['Input.Video_ID']==ID].iloc[:,1:]\n",
    "    \n",
    "    krip_alpha = kp.alpha(reliability_data=temp, level_of_measurement='nominal')\n",
    "    alpha.append(krip_alpha)\n",
    "    #temp.head\n",
    "    if krip_alpha==1.0:\n",
    "        d = temp.iloc[0,:].to_dict()\n",
    "        d['Input.Video_ID']=ID  \n",
    "        #print(d)\n",
    "        row_list.append(d)\n",
    "    else:\n",
    "        if len(temp['Answer.Gender.1'].unique())<=2 and len(temp['Answer.Race.1'].unique())<=2:\n",
    "            temp = temp.mode()\n",
    "            d = temp.mode()\n",
    "            d['Input.Video_ID']=ID\n",
    "            row_list.append(d.to_dict('records')[0])\n",
    "        \n",
    "        \n",
    "#print(row_list)       \n",
    "final_df = pd.DataFrame(row_list)\n",
    "\n",
    "cols = list(final_df.columns)\n",
    "cols = [cols[-1]] + cols[:-1]\n",
    "final_df = final_df[cols]\n",
    "final_df.head()"
   ]
  },
  {
   "cell_type": "code",
   "execution_count": 36,
   "metadata": {
    "collapsed": false,
    "deletable": true,
    "editable": true
   },
   "outputs": [],
   "source": [
    "final_df = final_df.rename(columns= {'Input.Video_ID' : 'Video_ID', \n",
    "                          'Answer.Gender.1' : 'Male',\n",
    "                          'Answer.Gender.2' : 'Female',\n",
    "                          'Answer.Gender.3' : 'Both', \n",
    "                          'Answer.Gender.4' : 'Other',\n",
    "                          'Answer.Race.1' : 'White',\n",
    "                          'Answer.Race.2/' :'Black_or_African_American',\n",
    "                          'Answer.Race.3/' :'American_Indian_or_Alaska_Native', \n",
    "                          'Answer.Race.4/' : 'Asian', \n",
    "                          'Answer.Race.5/' : 'Native_Hawaiian_or_Other_Pacific_Islander', \n",
    "                          'Answer.Race.6/' : 'Latino_or_Hispanic',\n",
    "                          'Answer.Race.7/' : 'Other_or_mixed race'})"
   ]
  },
  {
   "cell_type": "code",
   "execution_count": 28,
   "metadata": {
    "collapsed": false,
    "deletable": true,
    "editable": true
   },
   "outputs": [
    {
     "data": {
      "text/plain": [
       "0.9312828004952779"
      ]
     },
     "execution_count": 28,
     "metadata": {},
     "output_type": "execute_result"
    }
   ],
   "source": [
    "np.array(alpha).mean()"
   ]
  },
  {
   "cell_type": "code",
   "execution_count": 37,
   "metadata": {
    "collapsed": false,
    "deletable": true,
    "editable": true
   },
   "outputs": [],
   "source": [
    "final_df = final_df*1"
   ]
  },
  {
   "cell_type": "code",
   "execution_count": 38,
   "metadata": {
    "collapsed": false,
    "deletable": true,
    "editable": true
   },
   "outputs": [],
   "source": [
    "final_df.to_csv('../Ted_data/protected_features.csv', index=False)"
   ]
  },
  {
   "cell_type": "code",
   "execution_count": null,
   "metadata": {
    "collapsed": true
   },
   "outputs": [],
   "source": []
  }
 ],
 "metadata": {
  "kernelspec": {
   "display_name": "Python 3",
   "language": "python",
   "name": "python3"
  },
  "language_info": {
   "codemirror_mode": {
    "name": "ipython",
    "version": 3
   },
   "file_extension": ".py",
   "mimetype": "text/x-python",
   "name": "python",
   "nbconvert_exporter": "python",
   "pygments_lexer": "ipython3",
   "version": "3.5.0"
  }
 },
 "nbformat": 4,
 "nbformat_minor": 2
}
