{
 "cells": [
  {
   "cell_type": "code",
   "execution_count": null,
   "metadata": {
    "collapsed": true,
    "deletable": true,
    "editable": true
   },
   "outputs": [],
   "source": [
    "from causalgraphicalmodels import CausalGraphicalModel as cm"
   ]
  },
  {
   "cell_type": "code",
   "execution_count": null,
   "metadata": {
    "collapsed": true,
    "deletable": true,
    "editable": true
   },
   "outputs": [],
   "source": [
    "model1 = cm(nodes=[\"Race\",\"Gender\",\"Transcript\",\"View\",\"Rating\",\"Unknown_cause\"], edges=[(\"Race\", \"Transcript\"),(\"Race\",\"View\"),(\"Race\",\"Rating\"),(\"Gender\",\"Transcript\"),(\"Gender\",\"View\"),(\"Gender\",\"Rating\"),(\"Unknown_cause\",\"View\"),(\"Unknown_cause\",\"Transcript\"),(\"Unknown_cause\",\"Rating\"),(\"Transcript\",\"View\"),(\"Transcript\",\"Rating\"),(\"View\",\"Rating\")])"
   ]
  },
  {
   "cell_type": "code",
   "execution_count": null,
   "metadata": {
    "collapsed": false,
    "deletable": true,
    "editable": true
   },
   "outputs": [],
   "source": [
    "model1.draw()"
   ]
  },
  {
   "cell_type": "code",
   "execution_count": null,
   "metadata": {
    "collapsed": true,
    "deletable": true,
    "editable": true
   },
   "outputs": [],
   "source": [
    "#TO DO\n",
    "#Define other feasible causal models"
   ]
  }
 ],
 "metadata": {
  "kernelspec": {
   "display_name": "Python 3",
   "language": "python",
   "name": "python3"
  },
  "language_info": {
   "codemirror_mode": {
    "name": "ipython",
    "version": 3
   },
   "file_extension": ".py",
   "mimetype": "text/x-python",
   "name": "python",
   "nbconvert_exporter": "python",
   "pygments_lexer": "ipython3",
   "version": "3.6.8"
  }
 },
 "nbformat": 4,
 "nbformat_minor": 2
}
